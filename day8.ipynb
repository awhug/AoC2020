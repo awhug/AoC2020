{
 "cells": [
  {
   "cell_type": "code",
   "execution_count": 1,
   "metadata": {},
   "outputs": [],
   "source": [
    "from numpy import loadtxt\n",
    "\n",
    "# Import data\n",
    "game = loadtxt('data/day8.txt', dtype = str, delimiter = '\\n')"
   ]
  },
  {
   "cell_type": "code",
   "execution_count": 2,
   "metadata": {},
   "outputs": [
    {
     "data": {
      "text/plain": [
       "[[0, 'jmp', 254],\n",
       " [1, 'jmp', 1],\n",
       " [2, 'acc', 48],\n",
       " [3, 'jmp', 487],\n",
       " [4, 'jmp', 586]]"
      ]
     },
     "execution_count": 2,
     "metadata": {},
     "output_type": "execute_result"
    }
   ],
   "source": [
    "# Split string and rewrite nested list with index\n",
    "for i, op in enumerate(game):\n",
    "    x = op.split(' ')\n",
    "    game[i] = [i, x[0], int(x[1])]\n",
    "    \n",
    "# Check data format\n",
    "game[0:5]"
   ]
  },
  {
   "cell_type": "code",
   "execution_count": 3,
   "metadata": {},
   "outputs": [],
   "source": [
    "# Define function to calculate accumulator value & test completion\n",
    "def loop_hunter(instructions, challenge = 1):\n",
    "\n",
    "    # Initialise looping variables\n",
    "    accumulator = 0\n",
    "    visited = []\n",
    "\n",
    "    # Start point\n",
    "    idx, op, times = instructions[0]\n",
    "\n",
    "    # While loop\n",
    "    while idx not in visited:\n",
    "        visited.append(idx)\n",
    "        \n",
    "        if op == 'acc':\n",
    "            accumulator += times\n",
    "        \n",
    "        idx = idx + times if op == 'jmp' else idx + 1\n",
    "        \n",
    "        # Quit if successful termination\n",
    "        if idx >= len(instructions):\n",
    "            break\n",
    "        else:\n",
    "            idx, op, times = instructions[idx]\n",
    "    \n",
    "    # For challenge 1 we need the accumulator\n",
    "    if challenge == 1:\n",
    "        return(accumulator)\n",
    "    \n",
    "    # For challenge 2 we need to know if we finished\n",
    "    else:\n",
    "        finished = idx == len(instructions)\n",
    "        return(finished)"
   ]
  },
  {
   "cell_type": "code",
   "execution_count": 4,
   "metadata": {},
   "outputs": [
    {
     "data": {
      "text/plain": [
       "1489"
      ]
     },
     "execution_count": 4,
     "metadata": {},
     "output_type": "execute_result"
    }
   ],
   "source": [
    "# Get Challenge 1 value\n",
    "loop_hunter(game, challenge = 1)"
   ]
  },
  {
   "cell_type": "code",
   "execution_count": 5,
   "metadata": {},
   "outputs": [
    {
     "data": {
      "text/plain": [
       "1539"
      ]
     },
     "execution_count": 5,
     "metadata": {},
     "output_type": "execute_result"
    }
   ],
   "source": [
    "def flip(x):\n",
    "    y = 'jmp' if x == 'nop' else 'nop'\n",
    "    return(y)\n",
    "\n",
    "# Brute force test by\n",
    "def brute_test(instructions):\n",
    "    for idx, op, times in instructions:\n",
    "        if op == 'acc':\n",
    "            continue\n",
    "        else:\n",
    "            # Flip the operations in-place and test whether program ended\n",
    "            instructions[idx] = [idx, flip(op), times]\n",
    "            finished = loop_hunter(instructions, challenge = 2)\n",
    "            \n",
    "            # If we've reached the end, re-run the program to get accumulator val\n",
    "            if finished:\n",
    "                accumulator = loop_hunter(instructions, challenge = 1)\n",
    "                return(accumulator)\n",
    "            \n",
    "            instructions[idx] = [idx, op, times]\n",
    "        \n",
    "brute_test(game)"
   ]
  }
 ],
 "metadata": {
  "kernelspec": {
   "display_name": "Python 3",
   "language": "python",
   "name": "python3"
  },
  "language_info": {
   "codemirror_mode": {
    "name": "ipython",
    "version": 3
   },
   "file_extension": ".py",
   "mimetype": "text/x-python",
   "name": "python",
   "nbconvert_exporter": "python",
   "pygments_lexer": "ipython3",
   "version": "3.8.3"
  }
 },
 "nbformat": 4,
 "nbformat_minor": 4
}
