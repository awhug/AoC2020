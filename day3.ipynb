{
 "cells": [
  {
   "cell_type": "code",
   "execution_count": 1,
   "metadata": {},
   "outputs": [
    {
     "data": {
      "text/plain": [
       "['.....##.#.....#........#....##.',\n",
       " '....#...#...#.#.......#........',\n",
       " '.....##.#......#.......#.......',\n",
       " '...##.........#...#............',\n",
       " '........#...#.......#.........#']"
      ]
     },
     "execution_count": 1,
     "metadata": {},
     "output_type": "execute_result"
    }
   ],
   "source": [
    "from re import sub\n",
    "\n",
    "# Import data\n",
    "trees = []\n",
    "with open('data/day3.txt') as file:\n",
    "    trees.append(file.readlines())\n",
    "\n",
    "# Process data into nested lists\n",
    "trees = [sub('\\n', '', tree) for tree in trees[0]]\n",
    "\n",
    "# Check data format\n",
    "trees[0:5]"
   ]
  },
  {
   "cell_type": "code",
   "execution_count": 2,
   "metadata": {},
   "outputs": [],
   "source": [
    "# Extend the side of the hill\n",
    "hill = []\n",
    "for patch in trees:\n",
    "    hill.append(patch * 100)\n",
    "\n",
    "# Tree counter function\n",
    "def tree_counter(right, down = 1):\n",
    "    slope = []\n",
    "    angle = right\n",
    "    for i in range(down, len(hill), down):\n",
    "        slope.append(hill[i][angle])\n",
    "        angle += right\n",
    "    return(slope.count('#'))"
   ]
  },
  {
   "cell_type": "code",
   "execution_count": 3,
   "metadata": {},
   "outputs": [
    {
     "data": {
      "text/plain": [
       "203"
      ]
     },
     "execution_count": 3,
     "metadata": {},
     "output_type": "execute_result"
    }
   ],
   "source": [
    "# Challenge 1\n",
    "tree_counter(3)"
   ]
  },
  {
   "cell_type": "code",
   "execution_count": 4,
   "metadata": {},
   "outputs": [
    {
     "data": {
      "text/plain": [
       "3316272960"
      ]
     },
     "execution_count": 4,
     "metadata": {},
     "output_type": "execute_result"
    }
   ],
   "source": [
    "# Challenge 2\n",
    "tree_counter(1) * tree_counter(3) * tree_counter(5) * tree_counter(7) * tree_counter(1, 2)"
   ]
  }
 ],
 "metadata": {
  "kernelspec": {
   "display_name": "Python 3",
   "language": "python",
   "name": "python3"
  },
  "language_info": {
   "codemirror_mode": {
    "name": "ipython",
    "version": 3
   },
   "file_extension": ".py",
   "mimetype": "text/x-python",
   "name": "python",
   "nbconvert_exporter": "python",
   "pygments_lexer": "ipython3",
   "version": "3.8.3"
  }
 },
 "nbformat": 4,
 "nbformat_minor": 4
}
