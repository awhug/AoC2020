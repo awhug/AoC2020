{
 "cells": [
  {
   "cell_type": "code",
   "execution_count": 1,
   "metadata": {},
   "outputs": [
    {
     "data": {
      "text/plain": [
       "['byr:1983 iyr:2017 pid:796082981 cid:129 eyr:2030 ecl:oth hgt:182cm',\n",
       " 'iyr:2019 cid:314 eyr:2039 hcl:#cfa07d hgt:171cm ecl:#0180ce byr:2006 pid:8204115568',\n",
       " 'byr:1991 eyr:2022 hcl:#341e13 iyr:2016 pid:729933757 hgt:167cm ecl:gry',\n",
       " 'hcl:231d64 cid:124 ecl:gmt eyr:2039 hgt:189in pid:#9c3ea1',\n",
       " 'ecl:#1f58f9 pid:#758e59 iyr:2022 hcl:z byr:2016 hgt:68 eyr:1933']"
      ]
     },
     "execution_count": 1,
     "metadata": {},
     "output_type": "execute_result"
    }
   ],
   "source": [
    "import re\n",
    "\n",
    "with open('data/day4.txt') as file:\n",
    "    passport_data = file.readlines()[0]\n",
    "    \n",
    "passport_data = passport_data.split(', ')\n",
    "passport_data = [re.sub(\"\\'\", \"\", passport) for passport in passport_data]\n",
    "\n",
    "# Check data format\n",
    "passport_data[0:5]"
   ]
  },
  {
   "cell_type": "code",
   "execution_count": 2,
   "metadata": {},
   "outputs": [
    {
     "data": {
      "text/plain": [
       "[{'byr': 1983,\n",
       "  'iyr': 2017,\n",
       "  'pid': '796082981',\n",
       "  'cid': '129',\n",
       "  'eyr': 2030,\n",
       "  'ecl': 'oth',\n",
       "  'hgt': '182cm'},\n",
       " {'iyr': 2019,\n",
       "  'cid': '314',\n",
       "  'eyr': 2039,\n",
       "  'hcl': '#cfa07d',\n",
       "  'hgt': '171cm',\n",
       "  'ecl': '#0180ce',\n",
       "  'byr': 2006,\n",
       "  'pid': '8204115568'}]"
      ]
     },
     "execution_count": 2,
     "metadata": {},
     "output_type": "execute_result"
    }
   ],
   "source": [
    "# Rework into dictionary data\n",
    "passports = []\n",
    "for passport in passport_data:\n",
    "    passport = passport.split(' ')\n",
    "    passport_dict = {}\n",
    "    for details in passport:\n",
    "        field, value = details.split(':')\n",
    "        if field in ('byr', 'iyr', 'eyr'):\n",
    "            value = int(value)\n",
    "        else:\n",
    "            pass\n",
    "        passport_dict[field] = value\n",
    "    passports.append(passport_dict)\n",
    "    \n",
    "# Check data format\n",
    "passports[0:2]"
   ]
  },
  {
   "cell_type": "code",
   "execution_count": 3,
   "metadata": {},
   "outputs": [
    {
     "data": {
      "text/plain": [
       "239"
      ]
     },
     "execution_count": 3,
     "metadata": {},
     "output_type": "execute_result"
    }
   ],
   "source": [
    "# Challenge 1\n",
    "counts = 0\n",
    "for passport in passport_data:\n",
    "    passport = passport.split(' ')\n",
    "    if len(passport) == 8:\n",
    "        counts += 1\n",
    "        continue\n",
    "    if len(passport) == 7:\n",
    "        cid = list(filter(lambda p: re.match('^cid', p), passport))\n",
    "        if not cid:\n",
    "            counts += 1\n",
    "            continue\n",
    "            \n",
    "counts"
   ]
  },
  {
   "cell_type": "code",
   "execution_count": 4,
   "metadata": {},
   "outputs": [
    {
     "data": {
      "text/plain": [
       "188"
      ]
     },
     "execution_count": 4,
     "metadata": {},
     "output_type": "execute_result"
    }
   ],
   "source": [
    "# Challenge 2\n",
    "counts = 0\n",
    "\n",
    "for passport in passports:\n",
    "    # eliminate passports with too few fields\n",
    "    if len(set(passport.keys()) & set(['byr', 'iyr', 'eyr', 'hgt', 'hcl', 'ecl', 'pid'])) == 7:\n",
    "        \n",
    "        # Handle numeric fields\n",
    "        year_check = lambda field, ll, ul: passport[field] < ll or passport[field] > ul\n",
    "        if year_check('byr', 1920, 2002) or year_check('iyr', 2010, 2020) or year_check('eyr', 2020, 2030):\n",
    "            continue\n",
    "            \n",
    "        # check height - this is ugly lol\n",
    "        height_check = lambda r: bool(re.search(r, passport['hgt']))\n",
    "        if height_check('cm$'):\n",
    "            height = int(passport['hgt'][:-2])\n",
    "            if height < 150 or height > 193:\n",
    "                continue\n",
    "        elif height_check('in$'):\n",
    "            height = int(passport['hgt'][:-2])\n",
    "            if height < 59 or height > 76:\n",
    "                continue\n",
    "        else:\n",
    "            continue\n",
    "        \n",
    "        # Check hair\n",
    "        hair_colour = bool(re.search('^\\#\\w{6}', passport['hcl']))\n",
    "        if not hair_colour:\n",
    "            continue\n",
    "        \n",
    "        # Check eyes\n",
    "        if passport['ecl'] not in ('amb', 'blu', 'brn', 'gry', 'grn', 'hzl', 'oth'):\n",
    "            continue\n",
    "        \n",
    "        # Check passport id\n",
    "        passport_no = bool(re.search('^\\d{9}$', passport['pid']))\n",
    "        if not passport_no:\n",
    "            continue\n",
    "            \n",
    "        counts += 1\n",
    "        \n",
    "counts"
   ]
  }
 ],
 "metadata": {
  "kernelspec": {
   "display_name": "Python 3",
   "language": "python",
   "name": "python3"
  },
  "language_info": {
   "codemirror_mode": {
    "name": "ipython",
    "version": 3
   },
   "file_extension": ".py",
   "mimetype": "text/x-python",
   "name": "python",
   "nbconvert_exporter": "python",
   "pygments_lexer": "ipython3",
   "version": "3.8.3"
  }
 },
 "nbformat": 4,
 "nbformat_minor": 4
}
