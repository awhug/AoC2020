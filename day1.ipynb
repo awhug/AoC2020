{
 "cells": [
  {
   "cell_type": "code",
   "execution_count": 1,
   "metadata": {},
   "outputs": [],
   "source": [
    "from numpy import loadtxt\n",
    "from itertools import combinations\n",
    "from math import prod\n",
    "\n",
    "# Import data\n",
    "expenses = loadtxt('data/day1.txt', dtype = int, delimiter = ', ')\n",
    "\n",
    "# Loop over all combinations of expenses, then leave\n",
    "# the loop if the sum is 2020 & calculate the product.\n",
    "def finder(k):\n",
    "    for j in combinations(expenses, k):\n",
    "        s = sum(j)\n",
    "        if s == 2020:\n",
    "            p = prod(j)\n",
    "            break\n",
    "    return(p)"
   ]
  },
  {
   "cell_type": "code",
   "execution_count": 2,
   "metadata": {},
   "outputs": [
    {
     "data": {
      "text/plain": [
       "802011"
      ]
     },
     "execution_count": 2,
     "metadata": {},
     "output_type": "execute_result"
    }
   ],
   "source": [
    "# Challenge #1\n",
    "finder(2)"
   ]
  },
  {
   "cell_type": "code",
   "execution_count": 3,
   "metadata": {},
   "outputs": [
    {
     "data": {
      "text/plain": [
       "248607374"
      ]
     },
     "execution_count": 3,
     "metadata": {},
     "output_type": "execute_result"
    }
   ],
   "source": [
    "# Challenge # 2\n",
    "finder(3)"
   ]
  }
 ],
 "metadata": {
  "kernelspec": {
   "display_name": "Python 3",
   "language": "python",
   "name": "python3"
  },
  "language_info": {
   "codemirror_mode": {
    "name": "ipython",
    "version": 3
   },
   "file_extension": ".py",
   "mimetype": "text/x-python",
   "name": "python",
   "nbconvert_exporter": "python",
   "pygments_lexer": "ipython3",
   "version": "3.8.3"
  }
 },
 "nbformat": 4,
 "nbformat_minor": 4
}
