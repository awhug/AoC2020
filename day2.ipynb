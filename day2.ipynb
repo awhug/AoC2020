{
 "cells": [
  {
   "cell_type": "code",
   "execution_count": 1,
   "metadata": {},
   "outputs": [
    {
     "data": {
      "text/plain": [
       "[['4-6', 'b:', 'bbbdbtbbbj'],\n",
       " ['1-6', 'g:', 'ggvggbgggstg'],\n",
       " ['1-4', 's:', 'lssss'],\n",
       " ['13-14', 'v:', 'hvvcvvvvvvvvvsvvv'],\n",
       " ['3-5', 'm:', 'lcmmm']]"
      ]
     },
     "execution_count": 1,
     "metadata": {},
     "output_type": "execute_result"
    }
   ],
   "source": [
    "from re import sub\n",
    "\n",
    "# Import data\n",
    "passwords = []\n",
    "with open('data/day2.txt') as file:\n",
    "    passwords.append(file.readlines())\n",
    "\n",
    "# Process data into nested lists\n",
    "passwords = [sub('\\n', '', password) for password in passwords[0]]\n",
    "passwords = [password.split(' ') for password in passwords]\n",
    "\n",
    "# Check data format\n",
    "passwords[0:5]"
   ]
  },
  {
   "cell_type": "code",
   "execution_count": 2,
   "metadata": {},
   "outputs": [],
   "source": [
    "# Split data into separate variables\n",
    "lims = [list(map(int, i[0].split('-'))) for i in passwords]\n",
    "ll = [i[0] for i in lims]\n",
    "ul = [i[1] for i in lims]\n",
    "key_letters = [i[1][0] for i in passwords]\n",
    "passwords = [i[2] for i in passwords]"
   ]
  },
  {
   "cell_type": "code",
   "execution_count": 3,
   "metadata": {},
   "outputs": [
    {
     "data": {
      "text/plain": [
       "454"
      ]
     },
     "execution_count": 3,
     "metadata": {},
     "output_type": "execute_result"
    }
   ],
   "source": [
    "# Challenge 1\n",
    "count = 0\n",
    "\n",
    "for i in range(len(passwords)):\n",
    "    freq = passwords[i].count(key_letters[i])\n",
    "    if freq >= ll[i] and freq <= ul[i]:\n",
    "        count += 1\n",
    "\n",
    "count"
   ]
  },
  {
   "cell_type": "code",
   "execution_count": 4,
   "metadata": {},
   "outputs": [
    {
     "data": {
      "text/plain": [
       "649"
      ]
     },
     "execution_count": 4,
     "metadata": {},
     "output_type": "execute_result"
    }
   ],
   "source": [
    "# Challenge 2\n",
    "count = 0\n",
    "\n",
    "for i in range(len(passwords)):\n",
    "    p1 = passwords[i][ll[i] - 1]\n",
    "    p2 = passwords[i][ul[i] - 1]\n",
    "    if p1 == key_letters[i] or p2 == key_letters[i]:\n",
    "        if p1 == p2:\n",
    "            pass\n",
    "        else:\n",
    "            count += 1\n",
    "\n",
    "count"
   ]
  }
 ],
 "metadata": {
  "kernelspec": {
   "display_name": "Python 3",
   "language": "python",
   "name": "python3"
  },
  "language_info": {
   "codemirror_mode": {
    "name": "ipython",
    "version": 3
   },
   "file_extension": ".py",
   "mimetype": "text/x-python",
   "name": "python",
   "nbconvert_exporter": "python",
   "pygments_lexer": "ipython3",
   "version": "3.8.3"
  }
 },
 "nbformat": 4,
 "nbformat_minor": 4
}
