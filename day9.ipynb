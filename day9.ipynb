{
 "cells": [
  {
   "cell_type": "code",
   "execution_count": 1,
   "metadata": {},
   "outputs": [],
   "source": [
    "import numpy as np\n",
    "from itertools import combinations\n",
    "\n",
    "xmas = np.loadtxt('data/day9.txt', dtype = int, delimiter = '\\n')"
   ]
  },
  {
   "cell_type": "code",
   "execution_count": 2,
   "metadata": {},
   "outputs": [
    {
     "name": "stdout",
     "output_type": "stream",
     "text": [
      "1124361034\n"
     ]
    }
   ],
   "source": [
    "# Challenge 1\n",
    "# Set the preamble number (25)\n",
    "r = 25\n",
    "\n",
    "seq = np.arange(len(xmas) - r)\n",
    "for i in seq:\n",
    "    pairs = combinations(xmas[i:i + r], 2)\n",
    "    next_num = xmas[i + r]\n",
    "    found = False\n",
    "    for x in pairs:\n",
    "        pair_sum = sum(x)\n",
    "        if pair_sum == next_num:\n",
    "            found = True\n",
    "            break\n",
    "    if not found:\n",
    "        print(next_num)\n",
    "        break"
   ]
  },
  {
   "cell_type": "code",
   "execution_count": 3,
   "metadata": {},
   "outputs": [
    {
     "name": "stdout",
     "output_type": "stream",
     "text": [
      "[1124361034]\n",
      "[43434797 45697881 44912179 68808918 62815631 50582113 62109110 66022757\n",
      " 85906771 71335674 73323456 64448551 72244256 70472616 86009758 79004103\n",
      " 77232463]\n"
     ]
    }
   ],
   "source": [
    "# Challenge 2\n",
    "# Seems unlikely the number of contiguous numbers will be > 20\n",
    "for k in range(20):\n",
    "    for i, j in enumerate(xmas):\n",
    "        if len(xmas) - k <= 0:\n",
    "            break\n",
    "        split_xmas = xmas[i:i + k]\n",
    "        if sum(split_xmas) == 1124361034:\n",
    "            print(split_xmas)\n",
    "            break"
   ]
  },
  {
   "cell_type": "code",
   "execution_count": 4,
   "metadata": {},
   "outputs": [
    {
     "data": {
      "text/plain": [
       "129444555"
      ]
     },
     "execution_count": 4,
     "metadata": {},
     "output_type": "execute_result"
    }
   ],
   "source": [
    "# We printed our result - let's add the min and max\n",
    "result = np.array([[43434797, 45697881, 44912179, 68808918, 62815631, \n",
    "                    50582113, 62109110, 66022757, 85906771, 71335674, \n",
    "                    73323456, 64448551, 72244256, 70472616, 86009758, \n",
    "                    79004103, 77232463]])\n",
    "\n",
    "np.min(result) + np.max(result)"
   ]
  }
 ],
 "metadata": {
  "kernelspec": {
   "display_name": "Python 3",
   "language": "python",
   "name": "python3"
  },
  "language_info": {
   "codemirror_mode": {
    "name": "ipython",
    "version": 3
   },
   "file_extension": ".py",
   "mimetype": "text/x-python",
   "name": "python",
   "nbconvert_exporter": "python",
   "pygments_lexer": "ipython3",
   "version": "3.8.3"
  }
 },
 "nbformat": 4,
 "nbformat_minor": 4
}
