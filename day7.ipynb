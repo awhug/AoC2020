{
 "cells": [
  {
   "cell_type": "code",
   "execution_count": 1,
   "metadata": {},
   "outputs": [
    {
     "data": {
      "text/plain": [
       "['posh teal bags contain 2 faded coral bags, 3 striped crimson bags, 1 faded red bag.',\n",
       " 'mirrored chartreuse bags contain 3 clear beige bags, 3 shiny silver bags, 3 bright green bags.',\n",
       " 'dotted red bags contain 4 light chartreuse bags.',\n",
       " 'faded chartreuse bags contain 1 striped black bag, 1 dim coral bag, 5 mirrored maroon bags.',\n",
       " 'bright teal bags contain 3 light black bags, 4 striped fuchsia bags, 1 dark chartreuse bag.']"
      ]
     },
     "execution_count": 1,
     "metadata": {},
     "output_type": "execute_result"
    }
   ],
   "source": [
    "import re\n",
    "\n",
    "# Import data\n",
    "with open('data/day7.txt') as file:\n",
    "    rules = file.readlines()[0]\n",
    "    \n",
    "rules = rules.split('\\', ')\n",
    "rules = [re.sub(\"\\'\", \"\", rule) for rule in rules]\n",
    "\n",
    "# Check data format\n",
    "rules[0:5]"
   ]
  },
  {
   "cell_type": "code",
   "execution_count": 2,
   "metadata": {},
   "outputs": [
    {
     "data": {
      "text/plain": [
       "{'faded coral': 2, 'striped crimson': 3, 'faded red': 1}"
      ]
     },
     "execution_count": 2,
     "metadata": {},
     "output_type": "execute_result"
    }
   ],
   "source": [
    "# Split in rhs and lhs\n",
    "rules = [rule.split(\" contain \") for rule in rules]\n",
    "\n",
    "# tidy input - remove redundant bag info\n",
    "rules = [[re.sub(' bags| bag|\\.', '', i) for i in j] for j in rules]\n",
    "\n",
    "# break into dictionary\n",
    "rules = {rule[0]: rule[1].split(', ') for rule in rules}\n",
    "\n",
    "# Establish new dict\n",
    "bag_dict = {bag: None for bag in rules.keys()}\n",
    "\n",
    "# Fill the new dict in a loop - nested dictionaries\n",
    "for bag, inner_bags in rules.items():\n",
    "    inner_bag_dict = {}\n",
    "    for inner_bag in inner_bags:\n",
    "        if inner_bag == \"no other\":\n",
    "            continue\n",
    "\n",
    "        n = int(re.search('\\d', inner_bag).group(0))\n",
    "        b = ' '.join(re.findall('[a-zA-Z]+', inner_bag))\n",
    "        inner_bag_dict[b] = n\n",
    "    \n",
    "    bag_dict[bag] = inner_bag_dict\n",
    "\n",
    "# Check data format\n",
    "bag_dict['posh teal']"
   ]
  },
  {
   "cell_type": "code",
   "execution_count": 3,
   "metadata": {},
   "outputs": [
    {
     "data": {
      "text/plain": [
       "372"
      ]
     },
     "execution_count": 3,
     "metadata": {},
     "output_type": "execute_result"
    }
   ],
   "source": [
    "# Challenge 1\n",
    "# Recursively search bags\n",
    "def bag_opener(col, bag = bag_dict):\n",
    "    open_bag = bag[col]\n",
    "    if 'shiny gold' in open_bag.keys():\n",
    "        return(True)\n",
    "    else:\n",
    "        for inner_col in open_bag.keys():\n",
    "            found = bag_opener(inner_col)\n",
    "            if found:\n",
    "                return(True)\n",
    "    return(False)\n",
    "\n",
    "# Test for all in a foor loop\n",
    "contains_gold = []\n",
    "for i in bag_dict.keys():\n",
    "    contains_gold.append(bag_opener(i))\n",
    "\n",
    "# Count em up!\n",
    "sum(contains_gold)"
   ]
  },
  {
   "cell_type": "code",
   "execution_count": 4,
   "metadata": {},
   "outputs": [
    {
     "data": {
      "text/plain": [
       "8015"
      ]
     },
     "execution_count": 4,
     "metadata": {},
     "output_type": "execute_result"
    }
   ],
   "source": [
    "# Challenge 2\n",
    "# This feels like a pretty dumb solution but it works\n",
    "counter = 0\n",
    "def bag_searcher(col, bag = bag_dict):\n",
    "    global counter\n",
    "    open_bag = bag[col]\n",
    "    for inner_col, num in open_bag.items():\n",
    "        for sub_bags in range(num):\n",
    "            bag_searcher(inner_col)\n",
    "            counter += 1\n",
    "    \n",
    "bag_searcher('shiny gold')\n",
    "counter"
   ]
  }
 ],
 "metadata": {
  "kernelspec": {
   "display_name": "Python 3",
   "language": "python",
   "name": "python3"
  },
  "language_info": {
   "codemirror_mode": {
    "name": "ipython",
    "version": 3
   },
   "file_extension": ".py",
   "mimetype": "text/x-python",
   "name": "python",
   "nbconvert_exporter": "python",
   "pygments_lexer": "ipython3",
   "version": "3.8.3"
  }
 },
 "nbformat": 4,
 "nbformat_minor": 4
}
