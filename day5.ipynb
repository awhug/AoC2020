{
 "cells": [
  {
   "cell_type": "code",
   "execution_count": 1,
   "metadata": {},
   "outputs": [
    {
     "data": {
      "text/plain": [
       "array(['FBFBFFBLLR', 'FBBBFFBLLL', 'BFBFFFFRRR', 'BFBBBFBRLL',\n",
       "       'FBFBBFBLLL'], dtype='<U10')"
      ]
     },
     "execution_count": 1,
     "metadata": {},
     "output_type": "execute_result"
    }
   ],
   "source": [
    "import numpy as np\n",
    "\n",
    "# Import data\n",
    "seat_data = np.loadtxt('data/day5.txt', dtype = str, delimiter = ', ')\n",
    "seat_data[0:5]"
   ]
  },
  {
   "cell_type": "code",
   "execution_count": 2,
   "metadata": {},
   "outputs": [
    {
     "data": {
      "text/plain": [
       "357"
      ]
     },
     "execution_count": 2,
     "metadata": {},
     "output_type": "execute_result"
    }
   ],
   "source": [
    "# seat finder function\n",
    "def seat_finder(code):\n",
    "    \n",
    "    def halver(code, size, which):\n",
    "        seat_range = np.arange(size)\n",
    "        for index in code:\n",
    "            half = int(np.ceil(len(seat_range)/2))\n",
    "            seat_range = seat_range[:half] if index == which else seat_range[half:]\n",
    "        return(int(seat_range))\n",
    "    \n",
    "    row = halver(code[:7], size = 128, which = 'F')\n",
    "    col = halver(code[-3:], size = 8, which = 'L')\n",
    "    \n",
    "    seat_id = row * 8 + col\n",
    "    return(seat_id)\n",
    "\n",
    "# Test on example code\n",
    "seat_finder('FBFBBFFRLR')"
   ]
  },
  {
   "cell_type": "code",
   "execution_count": 3,
   "metadata": {},
   "outputs": [
    {
     "data": {
      "text/plain": [
       "938"
      ]
     },
     "execution_count": 3,
     "metadata": {},
     "output_type": "execute_result"
    }
   ],
   "source": [
    "# Challenge 1\n",
    "# Translate all seat ID's\n",
    "seat_ids = []\n",
    "for seat in seat_data:\n",
    "    seat_ids.append(seat_finder(seat))\n",
    "\n",
    "# What's the maximum?\n",
    "np.amax(seat_ids)"
   ]
  },
  {
   "cell_type": "code",
   "execution_count": 4,
   "metadata": {},
   "outputs": [
    {
     "data": {
      "text/plain": [
       "array([694, 695, 697, 698])"
      ]
     },
     "execution_count": 4,
     "metadata": {},
     "output_type": "execute_result"
    }
   ],
   "source": [
    "# Challenge 2\n",
    "sorted_seats = np.sort(seat_ids)\n",
    "checked = [sorted_seats[p + 1] - sorted_seats[p] for p in range(len(seat_ids) - 1)]\n",
    "checked.index(2) # 625\n",
    "\n",
    "# Look around - it's 696\n",
    "sorted_seats[624:628]"
   ]
  }
 ],
 "metadata": {
  "kernelspec": {
   "display_name": "Python 3",
   "language": "python",
   "name": "python3"
  },
  "language_info": {
   "codemirror_mode": {
    "name": "ipython",
    "version": 3
   },
   "file_extension": ".py",
   "mimetype": "text/x-python",
   "name": "python",
   "nbconvert_exporter": "python",
   "pygments_lexer": "ipython3",
   "version": "3.8.3"
  }
 },
 "nbformat": 4,
 "nbformat_minor": 4
}
