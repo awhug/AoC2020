{
 "cells": [
  {
   "cell_type": "code",
   "execution_count": 1,
   "metadata": {},
   "outputs": [
    {
     "data": {
      "text/plain": [
       "[['lfnghcsvpyrdjtxozimb',\n",
       "  'mdtbnorpfalcijxvhsy',\n",
       "  'elmwjkfbihydxcpqtovsrun',\n",
       "  'tlhmsdjingyxcbfrvpo'],\n",
       " ['a', 'a', 'xqh'],\n",
       " ['mxdeqcinvfg', 'vbncrgzxqefka'],\n",
       " ['oejsdfwm', 'fojsmewd', 'ewxfsouimdj', 'eodafjwsm', 'edjwsmfo'],\n",
       " ['d', 'd', 'j']]"
      ]
     },
     "execution_count": 1,
     "metadata": {},
     "output_type": "execute_result"
    }
   ],
   "source": [
    "from string import ascii_lowercase\n",
    "import re\n",
    "\n",
    "# Import data\n",
    "with open('data/day6.txt') as file:\n",
    "    customs_data = file.readlines()[0]\n",
    "    \n",
    "customs_data = customs_data.split('\\', ')\n",
    "customs_data = [re.sub(\"\\'\", \"\", dat) for dat in customs_data]\n",
    "customs_data = [i.split(', ') for i in customs_data]\n",
    "\n",
    "# Check data format\n",
    "customs_data[0:5]"
   ]
  },
  {
   "cell_type": "code",
   "execution_count": 2,
   "metadata": {},
   "outputs": [
    {
     "data": {
      "text/plain": [
       "6809"
      ]
     },
     "execution_count": 2,
     "metadata": {},
     "output_type": "execute_result"
    }
   ],
   "source": [
    "# Challenge 1\n",
    "# For loop to get a dict for each letter by group\n",
    "letters_by_group = []\n",
    "for group in customs_data:\n",
    "    group_letters = {letter: False for letter in ascii_lowercase}\n",
    "    for person in group:\n",
    "        for letter in ascii_lowercase:\n",
    "            # Skip the search if letter has already been found\n",
    "            if group_letters[letter]:\n",
    "                continue\n",
    "            elif bool(re.search(letter, person)):\n",
    "                group_letters[letter] = True\n",
    "    letters_by_group.append(group_letters)\n",
    "\n",
    "# Get total unique letters per group\n",
    "total_letters = [sum(x.values()) for x in letters_by_group]\n",
    "sum(total_letters)"
   ]
  },
  {
   "cell_type": "code",
   "execution_count": 3,
   "metadata": {},
   "outputs": [
    {
     "data": {
      "text/plain": [
       "3394"
      ]
     },
     "execution_count": 3,
     "metadata": {},
     "output_type": "execute_result"
    }
   ],
   "source": [
    "# Challenge 2\n",
    "# This code is probably redundant - could refactor above\n",
    "all_endorsed_by_group = []\n",
    "\n",
    "for group in customs_data:\n",
    "    group_letters = {letter: 0 for letter in ascii_lowercase}\n",
    "    all_endorsed = {letter: False for letter in ascii_lowercase}\n",
    "    group_size = len(group)\n",
    "    for person in group:\n",
    "        for letter in ascii_lowercase:\n",
    "            if bool(re.search(letter, person)):\n",
    "                group_letters[letter] += 1\n",
    "                if group_letters[letter] == group_size:\n",
    "                    all_endorsed[letter] = True\n",
    "    all_endorsed_by_group.append(all_endorsed)\n",
    "\n",
    "# Get total complete endorsement of letters per group\n",
    "total_letters = [sum(x.values()) for x in all_endorsed_by_group]\n",
    "sum(total_letters)"
   ]
  }
 ],
 "metadata": {
  "kernelspec": {
   "display_name": "Python 3",
   "language": "python",
   "name": "python3"
  },
  "language_info": {
   "codemirror_mode": {
    "name": "ipython",
    "version": 3
   },
   "file_extension": ".py",
   "mimetype": "text/x-python",
   "name": "python",
   "nbconvert_exporter": "python",
   "pygments_lexer": "ipython3",
   "version": "3.8.3"
  }
 },
 "nbformat": 4,
 "nbformat_minor": 4
}
